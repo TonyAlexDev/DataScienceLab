{
 "cells": [
  {
   "cell_type": "markdown",
   "id": "57a3da94",
   "metadata": {},
   "source": [
    "by Tony Alexander\n",
    "4/11"
   ]
  },
  {
   "cell_type": "code",
   "execution_count": 3,
   "id": "105d799d",
   "metadata": {},
   "outputs": [],
   "source": [
    "from sklearn.linear_model import Perceptron\n",
    "x_train=[[0,0],[0,1],[1,0],[1,1]]\n",
    "y_train=[0,0,0,1]"
   ]
  },
  {
   "cell_type": "code",
   "execution_count": 4,
   "id": "204b5e05",
   "metadata": {},
   "outputs": [
    {
     "data": {
      "text/plain": [
       "Perceptron()"
      ]
     },
     "execution_count": 4,
     "metadata": {},
     "output_type": "execute_result"
    }
   ],
   "source": [
    "classifier=Perceptron(tol=1e-3,random_state=0)\n",
    "classifier.fit(x_train,y_train)\n",
    "Perceptron()"
   ]
  },
  {
   "cell_type": "code",
   "execution_count": 6,
   "id": "249832f6",
   "metadata": {},
   "outputs": [],
   "source": [
    "y_pred=classifier.predict(x_train)"
   ]
  },
  {
   "cell_type": "code",
   "execution_count": 7,
   "id": "cd475a52",
   "metadata": {},
   "outputs": [
    {
     "name": "stdout",
     "output_type": "stream",
     "text": [
      "[0 0 0 1]\n",
      "[[2. 2.]] [-2.]\n"
     ]
    }
   ],
   "source": [
    "print(y_pred)\n",
    "print(classifier.coef_,classifier.intercept_)"
   ]
  },
  {
   "cell_type": "code",
   "execution_count": null,
   "id": "34e8ef62",
   "metadata": {},
   "outputs": [],
   "source": []
  }
 ],
 "metadata": {
  "kernelspec": {
   "display_name": "Python 3 (ipykernel)",
   "language": "python",
   "name": "python3"
  },
  "language_info": {
   "codemirror_mode": {
    "name": "ipython",
    "version": 3
   },
   "file_extension": ".py",
   "mimetype": "text/x-python",
   "name": "python",
   "nbconvert_exporter": "python",
   "pygments_lexer": "ipython3",
   "version": "3.9.12"
  }
 },
 "nbformat": 4,
 "nbformat_minor": 5
}
