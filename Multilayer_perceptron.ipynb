{
 "cells": [
  {
   "cell_type": "markdown",
   "id": "bf0afab6",
   "metadata": {},
   "source": [
    "By Tony Alexander\n",
    "4/11"
   ]
  },
  {
   "cell_type": "code",
   "execution_count": 1,
   "id": "8d3be325",
   "metadata": {},
   "outputs": [
    {
     "name": "stdout",
     "output_type": "stream",
     "text": [
      "(768, 9)\n"
     ]
    },
    {
     "data": {
      "text/html": [
       "<div>\n",
       "<style scoped>\n",
       "    .dataframe tbody tr th:only-of-type {\n",
       "        vertical-align: middle;\n",
       "    }\n",
       "\n",
       "    .dataframe tbody tr th {\n",
       "        vertical-align: top;\n",
       "    }\n",
       "\n",
       "    .dataframe thead th {\n",
       "        text-align: right;\n",
       "    }\n",
       "</style>\n",
       "<table border=\"1\" class=\"dataframe\">\n",
       "  <thead>\n",
       "    <tr style=\"text-align: right;\">\n",
       "      <th></th>\n",
       "      <th>count</th>\n",
       "      <th>mean</th>\n",
       "      <th>std</th>\n",
       "      <th>min</th>\n",
       "      <th>25%</th>\n",
       "      <th>50%</th>\n",
       "      <th>75%</th>\n",
       "      <th>max</th>\n",
       "    </tr>\n",
       "  </thead>\n",
       "  <tbody>\n",
       "    <tr>\n",
       "      <th>Pregnancies</th>\n",
       "      <td>768.0</td>\n",
       "      <td>3.845052</td>\n",
       "      <td>3.369578</td>\n",
       "      <td>0.000</td>\n",
       "      <td>1.00000</td>\n",
       "      <td>3.0000</td>\n",
       "      <td>6.00000</td>\n",
       "      <td>17.00</td>\n",
       "    </tr>\n",
       "    <tr>\n",
       "      <th>Glucose</th>\n",
       "      <td>768.0</td>\n",
       "      <td>120.894531</td>\n",
       "      <td>31.972618</td>\n",
       "      <td>0.000</td>\n",
       "      <td>99.00000</td>\n",
       "      <td>117.0000</td>\n",
       "      <td>140.25000</td>\n",
       "      <td>199.00</td>\n",
       "    </tr>\n",
       "    <tr>\n",
       "      <th>BloodPressure</th>\n",
       "      <td>768.0</td>\n",
       "      <td>69.105469</td>\n",
       "      <td>19.355807</td>\n",
       "      <td>0.000</td>\n",
       "      <td>62.00000</td>\n",
       "      <td>72.0000</td>\n",
       "      <td>80.00000</td>\n",
       "      <td>122.00</td>\n",
       "    </tr>\n",
       "    <tr>\n",
       "      <th>SkinThickness</th>\n",
       "      <td>768.0</td>\n",
       "      <td>20.536458</td>\n",
       "      <td>15.952218</td>\n",
       "      <td>0.000</td>\n",
       "      <td>0.00000</td>\n",
       "      <td>23.0000</td>\n",
       "      <td>32.00000</td>\n",
       "      <td>99.00</td>\n",
       "    </tr>\n",
       "    <tr>\n",
       "      <th>Insulin</th>\n",
       "      <td>768.0</td>\n",
       "      <td>79.799479</td>\n",
       "      <td>115.244002</td>\n",
       "      <td>0.000</td>\n",
       "      <td>0.00000</td>\n",
       "      <td>30.5000</td>\n",
       "      <td>127.25000</td>\n",
       "      <td>846.00</td>\n",
       "    </tr>\n",
       "    <tr>\n",
       "      <th>BMI</th>\n",
       "      <td>768.0</td>\n",
       "      <td>31.992578</td>\n",
       "      <td>7.884160</td>\n",
       "      <td>0.000</td>\n",
       "      <td>27.30000</td>\n",
       "      <td>32.0000</td>\n",
       "      <td>36.60000</td>\n",
       "      <td>67.10</td>\n",
       "    </tr>\n",
       "    <tr>\n",
       "      <th>DiabetesPedigreeFunction</th>\n",
       "      <td>768.0</td>\n",
       "      <td>0.471876</td>\n",
       "      <td>0.331329</td>\n",
       "      <td>0.078</td>\n",
       "      <td>0.24375</td>\n",
       "      <td>0.3725</td>\n",
       "      <td>0.62625</td>\n",
       "      <td>2.42</td>\n",
       "    </tr>\n",
       "    <tr>\n",
       "      <th>Age</th>\n",
       "      <td>768.0</td>\n",
       "      <td>33.240885</td>\n",
       "      <td>11.760232</td>\n",
       "      <td>21.000</td>\n",
       "      <td>24.00000</td>\n",
       "      <td>29.0000</td>\n",
       "      <td>41.00000</td>\n",
       "      <td>81.00</td>\n",
       "    </tr>\n",
       "    <tr>\n",
       "      <th>Outcome</th>\n",
       "      <td>768.0</td>\n",
       "      <td>0.348958</td>\n",
       "      <td>0.476951</td>\n",
       "      <td>0.000</td>\n",
       "      <td>0.00000</td>\n",
       "      <td>0.0000</td>\n",
       "      <td>1.00000</td>\n",
       "      <td>1.00</td>\n",
       "    </tr>\n",
       "  </tbody>\n",
       "</table>\n",
       "</div>"
      ],
      "text/plain": [
       "                          count        mean         std     min       25%  \\\n",
       "Pregnancies               768.0    3.845052    3.369578   0.000   1.00000   \n",
       "Glucose                   768.0  120.894531   31.972618   0.000  99.00000   \n",
       "BloodPressure             768.0   69.105469   19.355807   0.000  62.00000   \n",
       "SkinThickness             768.0   20.536458   15.952218   0.000   0.00000   \n",
       "Insulin                   768.0   79.799479  115.244002   0.000   0.00000   \n",
       "BMI                       768.0   31.992578    7.884160   0.000  27.30000   \n",
       "DiabetesPedigreeFunction  768.0    0.471876    0.331329   0.078   0.24375   \n",
       "Age                       768.0   33.240885   11.760232  21.000  24.00000   \n",
       "Outcome                   768.0    0.348958    0.476951   0.000   0.00000   \n",
       "\n",
       "                               50%        75%     max  \n",
       "Pregnancies                 3.0000    6.00000   17.00  \n",
       "Glucose                   117.0000  140.25000  199.00  \n",
       "BloodPressure              72.0000   80.00000  122.00  \n",
       "SkinThickness              23.0000   32.00000   99.00  \n",
       "Insulin                    30.5000  127.25000  846.00  \n",
       "BMI                        32.0000   36.60000   67.10  \n",
       "DiabetesPedigreeFunction    0.3725    0.62625    2.42  \n",
       "Age                        29.0000   41.00000   81.00  \n",
       "Outcome                     0.0000    1.00000    1.00  "
      ]
     },
     "execution_count": 1,
     "metadata": {},
     "output_type": "execute_result"
    }
   ],
   "source": [
    "import pandas as pd\n",
    "import matplotlib.pyplot as plt\n",
    "import numpy as np\n",
    "import sklearn\n",
    "from sklearn.neural_network import MLPClassifier\n",
    "df = pd.read_csv('diabetes.csv')\n",
    "print(df.shape)\n",
    "df.describe().transpose()"
   ]
  },
  {
   "cell_type": "code",
   "execution_count": 2,
   "id": "a028621f",
   "metadata": {},
   "outputs": [
    {
     "data": {
      "text/plain": [
       "0    500\n",
       "1    268\n",
       "Name: Outcome, dtype: int64"
      ]
     },
     "execution_count": 2,
     "metadata": {},
     "output_type": "execute_result"
    }
   ],
   "source": [
    "df.Outcome.value_counts()"
   ]
  },
  {
   "cell_type": "code",
   "execution_count": 3,
   "id": "40cc165f",
   "metadata": {
    "scrolled": true
   },
   "outputs": [
    {
     "name": "stdout",
     "output_type": "stream",
     "text": [
      "0      1\n",
      "1      0\n",
      "2      1\n",
      "3      0\n",
      "4      1\n",
      "      ..\n",
      "763    0\n",
      "764    0\n",
      "765    0\n",
      "766    1\n",
      "767    0\n",
      "Name: Outcome, Length: 768, dtype: int64\n",
      "     Pregnancies  Glucose  BloodPressure  SkinThickness  Insulin   BMI  \\\n",
      "0              6      148             72             35        0  33.6   \n",
      "1              1       85             66             29        0  26.6   \n",
      "2              8      183             64              0        0  23.3   \n",
      "3              1       89             66             23       94  28.1   \n",
      "4              0      137             40             35      168  43.1   \n",
      "..           ...      ...            ...            ...      ...   ...   \n",
      "763           10      101             76             48      180  32.9   \n",
      "764            2      122             70             27        0  36.8   \n",
      "765            5      121             72             23      112  26.2   \n",
      "766            1      126             60              0        0  30.1   \n",
      "767            1       93             70             31        0  30.4   \n",
      "\n",
      "     DiabetesPedigreeFunction  Age  \n",
      "0                       0.627   50  \n",
      "1                       0.351   31  \n",
      "2                       0.672   32  \n",
      "3                       0.167   21  \n",
      "4                       2.288   33  \n",
      "..                        ...  ...  \n",
      "763                     0.171   63  \n",
      "764                     0.340   27  \n",
      "765                     0.245   30  \n",
      "766                     0.349   47  \n",
      "767                     0.315   23  \n",
      "\n",
      "[768 rows x 8 columns]\n"
     ]
    }
   ],
   "source": [
    "y=df['Outcome']\n",
    "print(y)\n",
    "df=df.drop(['Outcome'],axis=1)\n",
    "x=df\n",
    "print(x)"
   ]
  },
  {
   "cell_type": "code",
   "execution_count": 4,
   "id": "856350f0",
   "metadata": {},
   "outputs": [
    {
     "name": "stdout",
     "output_type": "stream",
     "text": [
      "(537, 8)\n",
      "(231, 8)\n"
     ]
    }
   ],
   "source": [
    "from sklearn.model_selection import train_test_split\n",
    "x_train, x_test, y_train, y_test = train_test_split(x, y, test_size = 0.3, random_state=0)\n",
    "print(x_train.shape)\n",
    "print(x_test.shape)"
   ]
  },
  {
   "cell_type": "code",
   "execution_count": null,
   "id": "0585fd5d",
   "metadata": {},
   "outputs": [],
   "source": [
    "from sklearn.preprocessing import MinMaxScaler\n",
    "st_x=MinMaxScaler()\n",
    "x_train=st_x.fit_transform(x_train)\n",
    "x_test=st_x.fit_transform(x_test)\n",
    "print(x_train)"
   ]
  },
  {
   "cell_type": "code",
   "execution_count": 5,
   "id": "0a371318",
   "metadata": {},
   "outputs": [
    {
     "name": "stderr",
     "output_type": "stream",
     "text": [
      "/opt/anaconda3/lib/python3.9/site-packages/sklearn/neural_network/_multilayer_perceptron.py:692: ConvergenceWarning: Stochastic Optimizer: Maximum iterations (500) reached and the optimization hasn't converged yet.\n",
      "  warnings.warn(\n"
     ]
    }
   ],
   "source": [
    "classifier=MLPClassifier(hidden_layer_sizes=(8,8,8,8),activation='relu',solver='adam',max_iter=500)\n",
    "classifier.fit(x_train, y_train)\n",
    "x_pred=classifier.predict(x_train)\n",
    "y_pred=classifier.predict(x_test)"
   ]
  },
  {
   "cell_type": "code",
   "execution_count": 6,
   "id": "ef1a8653",
   "metadata": {},
   "outputs": [
    {
     "name": "stdout",
     "output_type": "stream",
     "text": [
      "[1 0 0 1 0 0 1 1 0 0 1 1 0 0 0 0 1 0 0 0 1 1 0 0 0 0 0 0 0 0 0 0 0 0 0 1 1\n",
      " 0 0 0 0 0 0 1 1 0 0 1 1 1 0 0 1 0 0 0 0 1 1 1 1 0 0 1 1 1 1 0 0 0 0 0 0 0\n",
      " 1 0 0 0 0 0 0 0 0 0 0 0 1 0 1 0 0 0 0 0 0 0 1 0 1 1 0 0 0 0 0 1 0 0 0 1 0\n",
      " 1 1 1 1 1 0 0 0 1 0 0 0 0 0 0 0 1 0 0 0 0 0 1 0 1 0 1 1 0 0 0 0 0 1 0 0 0\n",
      " 0 1 0 1 0 0 1 0 0 0 1 1 1 1 0 0 0 1 0 0 0 0 0 0 1 1 0 0 0 0 0 0 1 1 0 1 1\n",
      " 0 1 1 1 0 0 0 0 0 0 1 1 0 0 0 0 0 0 0 1 0 0 0 1 0 1 0 0 0 0 0 1 1 0 0 1 0\n",
      " 1 1 0 0 1 1 0 0 0]\n",
      "[1 0 0 1 0 0 1 1 0 0 1 1 0 0 1 0 1 0 0 0 1 0 1 0 0 1 0 0 0 0 0 0 0 1 0 1 0\n",
      " 0 1 1 0 0 0 1 1 0 0 0 0 0 1 0 1 0 0 0 0 0 0 0 0 0 0 1 1 1 1 0 0 0 0 0 0 1\n",
      " 1 0 0 1 0 0 0 0 0 0 1 0 1 1 1 0 0 0 0 0 0 0 0 0 0 1 0 0 0 0 1 0 0 1 0 1 0\n",
      " 0 1 0 0 1 0 1 0 0 1 0 0 0 0 0 0 0 0 0 1 0 0 1 0 0 1 1 1 1 0 1 0 0 1 0 0 0\n",
      " 0 0 0 0 0 0 0 0 0 0 0 0 1 1 0 0 1 1 0 0 1 0 1 0 0 0 1 0 0 0 0 0 0 0 0 1 0\n",
      " 0 1 0 1 0 1 0 0 0 0 1 0 1 0 0 0 0 0 0 0 0 0 0 0 0 0 0 0 1 0 0 1 1 1 0 0 0\n",
      " 0 0 0 1 0 0 0 0 1]\n"
     ]
    }
   ],
   "source": [
    "print(y_test.values)\n",
    "print(y_pred)"
   ]
  },
  {
   "cell_type": "code",
   "execution_count": 7,
   "id": "ab8799aa",
   "metadata": {},
   "outputs": [
    {
     "name": "stdout",
     "output_type": "stream",
     "text": [
      "[[128  29]\n",
      " [ 38  36]]\n"
     ]
    }
   ],
   "source": [
    "#Creating the Confusion matrix\n",
    "from sklearn.metrics import confusion_matrix\n",
    "cm= confusion_matrix(y_test, y_pred)\n",
    "print(cm)"
   ]
  },
  {
   "cell_type": "code",
   "execution_count": 8,
   "id": "2302f351",
   "metadata": {},
   "outputs": [
    {
     "name": "stdout",
     "output_type": "stream",
     "text": [
      "[[301  42]\n",
      " [ 80 114]]\n"
     ]
    }
   ],
   "source": [
    "#Creating the Confusion matrix\n",
    "from sklearn.metrics import confusion_matrix\n",
    "cm1= confusion_matrix(y_train, x_pred)\n",
    "print(cm1)"
   ]
  },
  {
   "cell_type": "code",
   "execution_count": 9,
   "id": "994c8ca4",
   "metadata": {},
   "outputs": [
    {
     "data": {
      "text/plain": [
       "<sklearn.metrics._plot.confusion_matrix.ConfusionMatrixDisplay at 0x7f3ea44fe670>"
      ]
     },
     "execution_count": 9,
     "metadata": {},
     "output_type": "execute_result"
    },
    {
     "data": {
      "image/png": "[encoded data removed]",
      "text/plain": [
       "<Figure size 432x288 with 2 Axes>"
      ]
     },
     "metadata": {
      "needs_background": "light"
     },
     "output_type": "display_data"
    }
   ],
   "source": [
    "from sklearn.metrics import ConfusionMatrixDisplay\n",
    "disp = ConfusionMatrixDisplay(confusion_matrix=cm,\n",
    "display_labels=classifier.classes_)\n",
    "disp.plot()"
   ]
  },
  {
   "cell_type": "code",
   "execution_count": 10,
   "id": "90349b0c",
   "metadata": {},
   "outputs": [
    {
     "name": "stdout",
     "output_type": "stream",
     "text": [
      "Accuracy score: 0.70995670995671\n",
      "Precision score: 0.7710843373493976\n",
      "Recall score: 0.8152866242038217\n",
      "F1 score: 0.7925696594427244\n"
     ]
    }
   ],
   "source": [
    "from sklearn.metrics import accuracy_score, precision_score, recall_score, f1_score\n",
    "print('Accuracy score: {}'.format(accuracy_score(y_test, y_pred)))\n",
    "print('Precision score: {}'.format(precision_score(y_test, y_pred,pos_label=0)))\n",
    "print('Recall score: {}'.format(recall_score(y_test, y_pred,pos_label=0)))\n",
    "print('F1 score: {}'.format(f1_score(y_test, y_pred,pos_label=0)))"
   ]
  },
  {
   "cell_type": "code",
   "execution_count": 11,
   "id": "e6b2ea09",
   "metadata": {},
   "outputs": [
    {
     "data": {
      "text/plain": [
       "[array([[ 0.09072223,  0.12840481,  0.81571785,  0.54623259, -0.20026981,\n",
       "          0.65652339, -0.24291977, -0.74399827],\n",
       "        [-0.6331266 ,  0.00385435,  0.39476013,  0.07124269, -0.49259298,\n",
       "         -0.34062843,  0.45452372, -0.09563716],\n",
       "        [ 0.50003813,  0.47030774, -0.47270417, -0.47475787, -0.2211831 ,\n",
       "          0.40758415, -0.54207188,  0.43186815],\n",
       "        [ 0.21323299,  0.05114902, -0.34942002,  0.2948477 , -0.41030519,\n",
       "          0.23130056,  0.17699023,  0.00308076],\n",
       "        [-0.09740911,  0.19683517, -0.66305385, -0.19180486,  0.54171655,\n",
       "         -0.55243487,  0.50570932,  0.0784307 ],\n",
       "        [ 0.47114561,  0.51404004,  0.20957085,  0.22920543, -0.51802984,\n",
       "          0.30867338,  0.32119965, -0.38459826],\n",
       "        [-0.49954272, -0.32611898,  0.10494521,  0.18417548, -0.56458418,\n",
       "          0.47851445, -0.38558997, -0.1222343 ],\n",
       "        [-0.0773087 ,  0.29973226,  0.26471777,  0.58367404,  0.13520986,\n",
       "         -0.20584031, -0.03355907, -0.46171885]]),\n",
       " array([[-2.33755417e-01, -3.40523152e-01,  6.07781839e-01,\n",
       "          5.08511451e-01,  1.55231382e-01,  4.09932752e-21,\n",
       "          4.70880816e-01, -4.53413625e-01],\n",
       "        [-3.47050257e-01, -1.45749453e-01,  6.56701871e-02,\n",
       "         -1.48062656e-01,  2.81855717e-01, -3.01749951e-02,\n",
       "         -7.46178222e-02, -4.65706522e-03],\n",
       "        [ 1.21564664e-01,  2.73852331e-01,  1.16139421e-01,\n",
       "          3.71571608e-01, -2.61915936e-01, -1.49776816e-02,\n",
       "          1.83611652e-01,  2.64046973e-01],\n",
       "        [-3.75043641e-01,  3.34835321e-01, -1.05430665e+00,\n",
       "          2.12710616e-01, -6.96371817e-01, -2.11891022e-02,\n",
       "         -1.47863190e-01, -4.09915955e-02],\n",
       "        [-1.70765659e-01,  3.90565640e-05, -8.12824468e-02,\n",
       "         -5.94059654e-06, -6.39245292e-01, -9.37814981e-05,\n",
       "         -6.01567411e-01, -2.70840778e-01],\n",
       "        [ 4.72247158e-01, -1.68758445e-01,  1.38059298e-01,\n",
       "          5.94229544e-01, -4.17471997e-01, -1.30400130e-03,\n",
       "         -2.90090638e-01,  5.01349583e-01],\n",
       "        [ 6.19913753e-01,  2.49296145e-02,  6.18457665e-02,\n",
       "         -3.16889703e-01,  2.22957682e-01, -5.87550074e-04,\n",
       "          3.77438371e-01,  1.58047364e-01],\n",
       "        [-2.06566779e-01,  3.30699171e-01,  6.19857423e-01,\n",
       "          5.59602219e-01,  8.73542853e-01,  7.40894782e-18,\n",
       "         -4.52678240e-02, -1.93049259e-01]]),\n",
       " array([[-1.53830057e-01, -5.19701735e-01,  4.37660365e-02,\n",
       "         -3.28121573e-01,  1.19484861e-01, -2.72191164e-01,\n",
       "          1.75387546e-02,  1.66243996e-01],\n",
       "        [-2.33945537e-02,  4.98756238e-01, -1.78144853e-01,\n",
       "         -1.16548986e-01, -7.95199998e-02, -2.06605536e-01,\n",
       "         -2.43674235e-01, -5.30166683e-01],\n",
       "        [ 5.63848754e-01,  5.50776657e-01,  2.43306101e-01,\n",
       "         -4.52963016e-01,  1.86890876e-01,  2.79371370e-01,\n",
       "         -3.34472938e-02,  5.97727196e-01],\n",
       "        [-9.91067971e-02,  1.12942884e-01,  2.18895345e-01,\n",
       "          8.16974289e-02,  3.09536827e-01,  3.85214565e-01,\n",
       "         -1.36625535e+00,  5.64071792e-01],\n",
       "        [ 3.56930014e-01,  1.08609610e-01, -6.06421685e-01,\n",
       "          1.78878990e-01,  2.67648956e-01, -7.17385891e-01,\n",
       "         -5.95474973e-02,  4.29470732e-01],\n",
       "        [-8.84977890e-04,  3.65693324e-03, -3.24906820e-04,\n",
       "         -5.86701521e-07, -6.35978648e-03,  1.20406741e-11,\n",
       "         -1.59746209e-07,  2.71467492e-03],\n",
       "        [-1.60356990e-01, -3.10997260e-01, -3.94535622e-02,\n",
       "          2.08142666e-01,  2.96780289e-01, -2.62884785e-02,\n",
       "          4.65927326e-01, -3.54040440e-01],\n",
       "        [-1.49343918e-01, -3.46341995e-02,  4.19472705e-02,\n",
       "         -2.34698477e-01, -4.78483780e-01,  2.14318242e-01,\n",
       "          1.96076341e-01,  7.05150262e-01]]),\n",
       " array([[ 5.03639757e-01, -8.81540346e-04, -5.61740026e-01,\n",
       "          2.69938717e-01, -2.53605161e-01,  2.92420976e-01,\n",
       "          3.41175403e-01, -3.63743532e-02],\n",
       "        [ 1.74117005e-01, -8.20105492e-33, -1.06793263e+00,\n",
       "         -3.66876808e-01, -2.97140169e-01,  1.48053906e-01,\n",
       "          5.20520607e-01,  7.25897581e-01],\n",
       "        [ 2.64546458e-02, -4.32617559e-25, -4.51438564e-02,\n",
       "         -5.41434621e-01,  3.92986506e-02, -4.57521939e-01,\n",
       "          4.95602345e-01, -5.21996403e-01],\n",
       "        [-2.16507957e-01, -6.90592475e-03, -1.19266892e-01,\n",
       "          3.81444169e-02, -2.55354463e-01,  5.80960991e-01,\n",
       "          3.85655516e-01,  6.45351078e-02],\n",
       "        [-2.10517214e-01, -8.05982476e-10, -1.12630857e-01,\n",
       "          5.48049966e-01,  1.00242600e-02,  9.71448311e-02,\n",
       "         -2.72830210e-01, -8.62313817e-01],\n",
       "        [-2.60484538e-01, -4.22045476e-34, -1.02247799e-01,\n",
       "          5.36498170e-01,  9.06738513e-02, -9.01184319e-02,\n",
       "          4.52959632e-01,  2.91586937e-01],\n",
       "        [ 3.54221103e-01, -1.14480299e-20,  5.33057566e-01,\n",
       "         -2.11993485e-02, -3.98064883e-02, -4.07770110e-01,\n",
       "          2.31450523e-01, -3.06314639e-01],\n",
       "        [-4.83605377e-01, -2.76475768e-13, -5.23537503e-02,\n",
       "         -6.30172593e-01,  3.15654368e-01,  5.12990116e-01,\n",
       "         -4.46197444e-01, -1.14951282e-01]]),\n",
       " array([[ 4.14476863e-01],\n",
       "        [ 3.13978320e-07],\n",
       "        [ 3.09814263e-01],\n",
       "        [ 6.85745884e-01],\n",
       "        [ 4.64749393e-01],\n",
       "        [-1.61202009e-01],\n",
       "        [ 4.66788452e-01],\n",
       "        [-9.89098917e-01]])]"
      ]
     },
     "execution_count": 11,
     "metadata": {},
     "output_type": "execute_result"
    }
   ],
   "source": [
    "classifier.coefs_"
   ]
  },
  {
   "cell_type": "code",
   "execution_count": 12,
   "id": "00411761",
   "metadata": {},
   "outputs": [
    {
     "data": {
      "text/plain": [
       "[array([-0.01337049,  0.07463917,  0.17563482, -0.61213477,  0.11488388,\n",
       "        -0.04126572, -0.2889986 ,  1.42392844]),\n",
       " array([ 0.2348621 ,  0.7852053 ,  0.32792855,  0.12185806,  0.86424808,\n",
       "         0.37514114,  0.31371553, -0.23980058]),\n",
       " array([ 0.45865879, -0.42906334, -0.63760833,  0.51076051,  0.32104973,\n",
       "        -0.12719331,  0.50158485,  0.08002205]),\n",
       " array([ 0.17248973, -0.13371453, -0.16597811, -0.06911638, -0.43949459,\n",
       "         1.10999032, -0.45847345,  0.64174924]),\n",
       " array([-0.3991379])]"
      ]
     },
     "execution_count": 12,
     "metadata": {},
     "output_type": "execute_result"
    }
   ],
   "source": [
    "classifier.intercepts_"
   ]
  },
  {
   "cell_type": "code",
   "execution_count": null,
   "id": "8e418db3",
   "metadata": {},
   "outputs": [],
   "source": []
  }
 ],
 "metadata": {
  "kernelspec": {
   "display_name": "Python 3 (ipykernel)",
   "language": "python",
   "name": "python3"
  },
  "language_info": {
   "codemirror_mode": {
    "name": "ipython",
    "version": 3
   },
   "file_extension": ".py",
   "mimetype": "text/x-python",
   "name": "python",
   "nbconvert_exporter": "python",
   "pygments_lexer": "ipython3",
   "version": "3.9.12"
  }
 },
 "nbformat": 4,
 "nbformat_minor": 5
}
